{
 "cells": [
  {
   "cell_type": "markdown",
   "metadata": {},
   "source": [
    "### Set Up Packages and Global Settings"
   ]
  },
  {
   "cell_type": "code",
   "execution_count": 1,
   "metadata": {},
   "outputs": [],
   "source": [
    "import pytz\n",
    "import random\n",
    "import time\n",
    "\n",
    "from datetime import datetime\n",
    "\n",
    "import fastf1 as ff1\n",
    "import pandas as pd\n",
    "\n",
    "pd.set_option(\"display.max_columns\", None)"
   ]
  },
  {
   "cell_type": "markdown",
   "metadata": {},
   "source": [
    "### Explore Schedule"
   ]
  },
  {
   "cell_type": "code",
   "execution_count": null,
   "metadata": {},
   "outputs": [],
   "source": [
    "schedule = ff1.get_event_schedule(1994)\n",
    "schedule.RoundNumber.to_list()"
   ]
  },
  {
   "cell_type": "markdown",
   "metadata": {},
   "source": [
    "### Explore Session Object"
   ]
  },
  {
   "cell_type": "code",
   "execution_count": null,
   "metadata": {},
   "outputs": [],
   "source": [
    "session_quali = ff1.get_session(2020, 1, \"Q\")\n",
    "\n",
    "session_quali.load()\n",
    "session_quali.event"
   ]
  },
  {
   "cell_type": "code",
   "execution_count": null,
   "metadata": {},
   "outputs": [],
   "source": [
    "session_quali = ff1.get_session(2020, 1, 'R')\n",
    "\n",
    "session_quali.load()\n",
    "session_quali.results"
   ]
  },
  {
   "cell_type": "markdown",
   "metadata": {},
   "source": [
    "### Explore Laps"
   ]
  },
  {
   "cell_type": "code",
   "execution_count": null,
   "metadata": {},
   "outputs": [],
   "source": [
    "lap_data = session_number.laps\n",
    "print(lap_data)"
   ]
  },
  {
   "cell_type": "code",
   "execution_count": null,
   "metadata": {},
   "outputs": [],
   "source": [
    "lap_data.pick_team('McLaren').pick_fastest()"
   ]
  },
  {
   "cell_type": "code",
   "execution_count": null,
   "metadata": {},
   "outputs": [],
   "source": [
    "lap_data.pick_drivers(['PIA', 'NOR'])"
   ]
  },
  {
   "cell_type": "markdown",
   "metadata": {},
   "source": [
    "### Compare DriverId field to names"
   ]
  },
  {
   "cell_type": "code",
   "execution_count": null,
   "metadata": {},
   "outputs": [],
   "source": [
    "df_all = pd.DataFrame()\n",
    "\n",
    "list_years = list(range(1994, 1995 + 1))\n",
    "\n",
    "max_retries = 5\n",
    "\n",
    "for year in list_years:\n",
    "    print(f\"Pulling data for {year}\")\n",
    "\n",
    "    schedule = ff1.get_event_schedule(year)\n",
    "    rounds_all = schedule.RoundNumber.to_list()\n",
    "    rounds_races = [round for round in rounds_all if round > 0]\n",
    "\n",
    "    for round in rounds_races:\n",
    "        for attempt in range(max_retries):\n",
    "            try:\n",
    "                now_utc = datetime.now(pytz.timezone(\"UTC\"))\n",
    "                now_cst = now_utc.astimezone(pytz.timezone(\"America/Chicago\"))\n",
    "\n",
    "                print(f\"Pulling data for round {round} at {now_cst}...\")\n",
    "\n",
    "                session_quali = ff1.get_session(year, round, \"Q\")\n",
    "                session_quali.load()\n",
    "                df_quali = session_quali.results[[\"DriverId\", \"LastName\", \"FirstName\"]]\n",
    "\n",
    "                df_all = df_all.append(df_quali, ignore_index=True)\n",
    "                time.sleep(5)\n",
    "\n",
    "                session_race = ff1.get_session(year, round, \"R\")\n",
    "                session_race.load()\n",
    "                df_race = session_race.results[[\"DriverId\", \"LastName\", \"FirstName\"]]\n",
    "\n",
    "                df_all = df_all.append(df_race, ignore_index=True)\n",
    "                time.sleep(5)\n",
    "\n",
    "                df_all = df_all.drop_duplicates().reset_index(drop=True)\n",
    "\n",
    "                # If no exception was raised, break the loop\n",
    "                break\n",
    "            except Exception as e:\n",
    "                wait_time = (2**attempt) + random.random()\n",
    "                print(\n",
    "                    f\"Could not load data for round {round} due to {e}. Retrying in {wait_time} seconds.\"\n",
    "                )\n",
    "                time.sleep(wait_time)\n",
    "                continue\n",
    "\n",
    "df_unique = df_all.sort_values(by=\"DriverId\")"
   ]
  },
  {
   "cell_type": "markdown",
   "metadata": {},
   "source": [
    "### Develop Approach for Quali Results Object"
   ]
  },
  {
   "cell_type": "code",
   "execution_count": 16,
   "metadata": {},
   "outputs": [
    {
     "name": "stderr",
     "output_type": "stream",
     "text": [
      "core           INFO \tLoading data for Bahrain Grand Prix - Qualifying [v3.1.6]\n",
      "req            INFO \tUsing cached data for session_info\n",
      "req            INFO \tUsing cached data for driver_info\n",
      "req            INFO \tUsing cached data for session_status_data\n",
      "req            INFO \tUsing cached data for track_status_data\n",
      "req            INFO \tUsing cached data for _extended_timing_data\n",
      "req            INFO \tUsing cached data for timing_app_data\n",
      "core           INFO \tProcessing timing data...\n",
      "req            INFO \tUsing cached data for car_data\n",
      "req            INFO \tUsing cached data for position_data\n",
      "req            INFO \tUsing cached data for weather_data\n",
      "req            INFO \tUsing cached data for race_control_messages\n",
      "core           INFO \tFinished loading data for 20 drivers: ['1', '11', '16', '55', '14', '63', '44', '18', '31', '27', '4', '77', '24', '22', '23', '2', '20', '81', '21', '10']\n"
     ]
    }
   ],
   "source": [
    "session_quali = ff1.get_session(2023, 1, \"Q\")\n",
    "\n",
    "session_quali.load()\n",
    "df_raw = session_quali.results[\n",
    "    [\"Q1\", \"Q2\", \"Q3\", \"DriverId\", \"LastName\", \"FirstName\", \"TeamName\", \"Position\"]\n",
    "]\n",
    "\n",
    "df_processed = df_raw.melt(\n",
    "    id_vars=[\"DriverId\", \"LastName\", \"FirstName\", \"TeamName\", \"Position\"],\n",
    "    value_vars=[\"Q1\", \"Q2\", \"Q3\"],\n",
    "    var_name=\"session\",\n",
    "    value_name=\"time\",\n",
    ")\n",
    "\n",
    "df_processed.columns = df_processed.columns.str.lower()\n",
    "\n",
    "df_processed[\"originalposition\"] = df_processed[\"position\"]\n",
    "df_processed[\"position\"] = df_processed.groupby(\"session\")[\"time\"].rank(\n",
    "    method=\"min\", ascending=True\n",
    ")\n",
    "df_processed[\"position\"] = df_processed[\"position\"].fillna(\n",
    "    df_processed[\"originalposition\"]\n",
    ")\n",
    "\n",
    "df_processed = df_processed.drop(columns=[\"originalposition\"])\n",
    "df_final = df_processed[[\n",
    "    \"driverid\",\n",
    "    \"lastname\",\n",
    "    \"firstname\",\n",
    "    \"teamname\",\n",
    "    \"session\",\n",
    "    \"position\",\n",
    "    \"time\",\n",
    "]]"
   ]
  },
  {
   "cell_type": "markdown",
   "metadata": {},
   "source": [
    "### Develop Approach for Race Results Object"
   ]
  },
  {
   "cell_type": "code",
   "execution_count": 15,
   "metadata": {},
   "outputs": [
    {
     "name": "stderr",
     "output_type": "stream",
     "text": [
      "core           INFO \tLoading data for Bahrain Grand Prix - Race [v3.1.6]\n",
      "req            INFO \tUsing cached data for session_info\n",
      "req            INFO \tUsing cached data for driver_info\n",
      "req            INFO \tUsing cached data for session_status_data\n",
      "req            INFO \tUsing cached data for lap_count\n",
      "req            INFO \tUsing cached data for track_status_data\n",
      "req            INFO \tUsing cached data for _extended_timing_data\n",
      "req            INFO \tUsing cached data for timing_app_data\n",
      "core           INFO \tProcessing timing data...\n",
      "req            INFO \tUsing cached data for car_data\n",
      "req            INFO \tUsing cached data for position_data\n",
      "req            INFO \tUsing cached data for weather_data\n",
      "req            INFO \tUsing cached data for race_control_messages\n",
      "core           INFO \tFinished loading data for 20 drivers: ['1', '11', '14', '55', '44', '18', '63', '77', '10', '23', '22', '2', '20', '21', '27', '24', '4', '31', '16', '81']\n"
     ]
    }
   ],
   "source": [
    "session_quali = ff1.get_session(2023, 1, \"R\")\n",
    "\n",
    "session_quali.load()\n",
    "df_raw = session_quali.results[\n",
    "    [\n",
    "        \"DriverId\",\n",
    "        \"LastName\",\n",
    "        \"FirstName\",\n",
    "        \"TeamName\",\n",
    "        \"ClassifiedPosition\",\n",
    "        \"Time\",\n",
    "    ]\n",
    "]\n",
    "\n",
    "df_processed = df_raw.copy()\n",
    "\n",
    "df_processed[\"session\"] = \"Race\"\n",
    "\n",
    "df_processed.rename(columns={\"ClassifiedPosition\": \"position\"}, inplace=True)\n",
    "df_processed.columns = df_processed.columns.str.lower()\n",
    "df_final = df_processed[\n",
    "    [\n",
    "        \"driverid\",\n",
    "        \"lastname\",\n",
    "        \"firstname\",\n",
    "        \"teamname\",\n",
    "        \"session\",\n",
    "        \"position\",\n",
    "        \"time\",\n",
    "    ]\n",
    "]"
   ]
  },
  {
   "cell_type": "code",
   "execution_count": 37,
   "metadata": {},
   "outputs": [
    {
     "data": {
      "text/plain": [
       "RoundNumber                      1\n",
       "Location                    Sakhir\n",
       "EventDate      2023-03-05 00:00:00\n",
       "Country                    Bahrain\n",
       "dtype: object"
      ]
     },
     "execution_count": 37,
     "metadata": {},
     "output_type": "execute_result"
    }
   ],
   "source": [
    "session_quali.event[[\"RoundNumber\", \"Location\", \"EventDate\", \"Country\"]]"
   ]
  }
 ],
 "metadata": {
  "kernelspec": {
   "display_name": "Python 3",
   "language": "python",
   "name": "python3"
  },
  "language_info": {
   "codemirror_mode": {
    "name": "ipython",
    "version": 3
   },
   "file_extension": ".py",
   "mimetype": "text/x-python",
   "name": "python",
   "nbconvert_exporter": "python",
   "pygments_lexer": "ipython3",
   "version": "3.9.13"
  }
 },
 "nbformat": 4,
 "nbformat_minor": 2
}
